{
 "cells": [
  {
   "cell_type": "markdown",
   "metadata": {},
   "source": [
    "# Extension to [GMR16]\n",
    "Here we develop the code and the to obtain the lower bound in [GMR16] and then use our counting to improvo on it"
   ]
  },
  {
   "cell_type": "code",
   "execution_count": 1,
   "metadata": {},
   "outputs": [],
   "source": [
    "import numpy as np\n",
    "import matplotlib.pyplot as plt\n",
    "def H(p):\n",
    "    if (p == 1 or p == 0):\n",
    "        return 0\n",
    "    return -p*np.log2(p)-(1-p)*np.log2(1-p)"
   ]
  },
  {
   "cell_type": "markdown",
   "metadata": {},
   "source": [
    "The counting requires the maximimization of\n",
    "\\begin{align*}\n",
    "f_{GMR}(n,r) = \\binom{n}{d}^2\\binom{n}{r-2d}|\\Sigma|^{r-d} \\approx 2^{n\\left[2H(\\delta)+H(\\beta-2\\delta)+(\\beta-\\delta)\\log_2{|\\Sigma|}\\right]}\n",
    "\\end{align*}"
   ]
  },
  {
   "cell_type": "code",
   "execution_count": 2,
   "metadata": {},
   "outputs": [],
   "source": [
    "def f_GMR(beta,delta,sigma=4):\n",
    "    return 2*H(delta)+H(beta-2*delta)+(beta-delta)*np.log2(sigma)"
   ]
  },
  {
   "cell_type": "markdown",
   "metadata": {},
   "source": [
    "The maximization if for $0\\leq \\delta\\leq \\beta/2$ and $0\\leq \\beta \\leq 1$"
   ]
  },
  {
   "cell_type": "code",
   "execution_count": 3,
   "metadata": {},
   "outputs": [],
   "source": [
    "def delta_star_GMR(beta):\n",
    "    deltas = np.linspace(0,beta/2,99)\n",
    "    return deltas[np.argmax([f_GMR(beta,delta) for delta in deltas])]"
   ]
  },
  {
   "cell_type": "markdown",
   "metadata": {},
   "source": [
    "Now we have the vector of $\\delta^*(\\beta)$ in we can used them to solve the equation\n",
    "\\begin{align*}\n",
    "2H(\\delta^*(\\beta)) + H(\\beta-2\\delta^*(\\beta)) + (\\beta-\\delta^*(\\beta)-2)\\log_2{|\\Sigma|} - 0\n",
    "\\end{align*}"
   ]
  },
  {
   "cell_type": "code",
   "execution_count": 4,
   "metadata": {},
   "outputs": [],
   "source": [
    "def h_GMR(b,sigma=4):\n",
    "    return f_GMR(b,delta_star_GMR(b),sigma) - np.log2(sigma)"
   ]
  },
  {
   "cell_type": "markdown",
   "metadata": {},
   "source": [
    "We now use the *Newton* method from scipy library"
   ]
  },
  {
   "cell_type": "code",
   "execution_count": 5,
   "metadata": {},
   "outputs": [
    {
     "name": "stdout",
     "output_type": "stream",
     "text": [
      "beta* = 0.33832 is the [GMR16] lower bound to alpha\n"
     ]
    }
   ],
   "source": [
    "from scipy.optimize import newton\n",
    "xstar_GMR = newton(h_GMR,0.25)\n",
    "print(\"beta* = {0:.5f} is the [GMR16] lower bound to alpha\".format(xstar_GMR))"
   ]
  },
  {
   "cell_type": "markdown",
   "metadata": {},
   "source": [
    "This is the same value given in [GMR16]. We can use the same procedure to find the value of $\\beta^*$ given by our counting where\n",
    "\\begin{align*}\n",
    "f_{BS}(n,r) = \\binom{n}{d}^2\\binom{n-d}{r-2d}|\\Sigma|^{d}(|\\Sigma|-1)^{r-2d} \\approx\n",
    "    2^{n\\left[ 2H(\\delta)+(1-\\delta)H\\left(\\frac{\\beta-2\\delta}{1-\\delta}\\right)+\\delta\\log_2{|\\Sigma|} + (\\beta-2\\delta)\\log_2{(|\\Sigma|-1)}\\right]}\n",
    "\\end{align*}\n",
    "The value of $\\beta^*$ could be found by solving the equation\n",
    "\\begin{align*}\n",
    "2H(\\delta)+(1-\\delta)H\\left(\\frac{\\beta-2\\delta}{1-\\delta}\\right)+\\delta\\log_2{|\\Sigma|}+ (\\beta-2\\delta)\\log_2{(|\\Sigma|-1)} - \\log_2{|\\Sigma|} = 0\n",
    "\\end{align*}\n",
    "where (as above) $\\delta$ is in fact a function $\\delta^*(\\beta)$ obtained by maximization."
   ]
  },
  {
   "cell_type": "code",
   "execution_count": 28,
   "metadata": {},
   "outputs": [
    {
     "name": "stdout",
     "output_type": "stream",
     "text": [
      "beta* = 0.35978 is the [BS] lower bound to alpha\n"
     ]
    }
   ],
   "source": [
    "def f_BS(beta,delta,sigma=4):\n",
    "    return 2*H(delta)+(1-delta)*H((beta-2*delta)/(1-delta))+delta*np.log2(sigma)+(beta-2*delta)*np.log2(sigma-1)\n",
    "#def f_BS(beta,delta,sigma=4):\n",
    "#    return 2*H(delta)+(1-delta)*H((beta-2*delta)/(1-delta))+(beta)*np.log2(sigma-1)\n",
    "def delta_star_BS(beta,sigma=4):\n",
    "    deltas = np.linspace(0,beta/2,99)\n",
    "    return deltas[np.argmax([f_BS(beta,delta,sigma) for delta in deltas])]\n",
    "def h_BS(b,sigma=4):\n",
    "    return f_BS(b,delta_star_BS(b),sigma) - np.log2(sigma)\n",
    "xstar_BS = newton(h_BS, 0.25)\n",
    "print(\"beta* = {0:.5f} is the [BS] lower bound to alpha\".format(xstar_BS))"
   ]
  },
  {
   "cell_type": "markdown",
   "metadata": {},
   "source": [
    "thus, if the reasoning can be applied, our bound improves the previous one leading to $\\alpha\\geq\\beta^*\\approx 0.3598$. It should be notices that this value is very close to the numerical values we obtained when running the counting explicitly."
   ]
  },
  {
   "cell_type": "code",
   "execution_count": 30,
   "metadata": {},
   "outputs": [
    {
     "name": "stdout",
     "output_type": "stream",
     "text": [
      "0.17421246588138967\n"
     ]
    }
   ],
   "source": [
    "hh = lambda beta: h_BS(beta,2)\n",
    "xs2 = newton(hh, 0.1)\n",
    "print(xs2)"
   ]
  },
  {
   "cell_type": "markdown",
   "metadata": {},
   "source": [
    "For the binary alphabet the above function becomes\n",
    "\\begin{align*}\n",
    "2H(\\delta) + (1-\\delta)H\\left(\\frac{\\beta-2\\delta}{1-\\delta}\\right) + \\delta - 1 = 0\n",
    "\\end{align*}"
   ]
  },
  {
   "cell_type": "code",
   "execution_count": 31,
   "metadata": {},
   "outputs": [
    {
     "name": "stdout",
     "output_type": "stream",
     "text": [
      "beta* = 0.17055\n"
     ]
    }
   ],
   "source": [
    "def f_BS_binary(beta,delta):\n",
    "    return 2*H(delta)+(1-delta)*H((beta-2*delta)/(1-delta)) + delta\n",
    "def delta_star_BS_binary(beta):\n",
    "    deltas = np.linspace(0,beta/2,99)\n",
    "    return deltas[np.argmax([f_BS_binary(beta,delta) for delta in deltas])]\n",
    "def h_BS_binary(b):\n",
    "    return f_BS_binary(b,delta_star_BS_binary(b)) - 1\n",
    "xstar_BS_binary = newton(h_BS_binary, 0.1)\n",
    "print(\"beta* = {0:.5f}\".format(xstar_BS_binary))"
   ]
  },
  {
   "cell_type": "code",
   "execution_count": 17,
   "metadata": {},
   "outputs": [
    {
     "data": {
      "text/plain": [
       "[<matplotlib.lines.Line2D at 0x7fba2008a1d0>]"
      ]
     },
     "execution_count": 17,
     "metadata": {},
     "output_type": "execute_result"
    },
    {
     "data": {
      "image/png": "[encoded data removed]",
      "text/plain": [
       "<Figure size 432x288 with 1 Axes>"
      ]
     },
     "metadata": {
      "needs_background": "light"
     },
     "output_type": "display_data"
    }
   ],
   "source": [
    "betas = np.linspace(0,1,100)\n",
    "plt.plot(betas, [h_BS_binary(b) for b in betas])"
   ]
  },
  {
   "cell_type": "markdown",
   "metadata": {},
   "source": [
    "## The bound using summation\n",
    "The above method relies on the work in [GMR16], however it is not clear whether this methodology is correct (although the numerical result may be correct nonetheless). A more conservative approach substitute the maximum with the sum over $d$, this will inevitably decreas the value of $\\beta^*$. For our counting we shown that the equation to be solved is \n",
    "\\begin{align*}\n",
    "2H(\\delta)+(1-\\delta)H\\left(\\frac{\\beta-2\\delta}{1-\\delta}\\right)+ \\beta\\log_2{(|\\Sigma|-1)} - \\log_2{|\\Sigma|} = 0\n",
    "\\end{align*}\n",
    "holding for $|\\Sigma|\\geq 3$"
   ]
  },
  {
   "cell_type": "code",
   "execution_count": 7,
   "metadata": {},
   "outputs": [
    {
     "name": "stdout",
     "output_type": "stream",
     "text": [
      "beta* = 0.32926 is the conservative [BS] lower bound to alpha\n"
     ]
    }
   ],
   "source": [
    "def f2_BS(beta,delta,sigma=4):\n",
    "    return 2*H(delta)+(1-delta)*H((beta-2*delta)/(1-delta))+beta*np.log2(sigma-1)\n",
    "def delta_star2_BS(beta):\n",
    "    deltas = np.linspace(0,beta/2,99)\n",
    "    return deltas[np.argmax([f2_BS(beta,delta) for delta in deltas])]\n",
    "def h2_BS(b,sigma=4):\n",
    "    return f2_BS(b,delta_star2_BS(b),sigma) - np.log2(sigma)\n",
    "xstar2_BS = newton(h2_BS, 0.25)\n",
    "print(\"beta* = {0:.5f} is the conservative [BS] lower bound to alpha\".format(xstar2_BS))"
   ]
  },
  {
   "cell_type": "markdown",
   "metadata": {},
   "source": [
    "This value stays in between the bound in [GMR16] and the version of our bound we would obtain if we apply [GMR16] method to our counting. In both cases we improve the results in [GMR16] either because we give a tighter bound or because we improve on the simple (yet verfied) bound that is given in [GMR16]."
   ]
  },
  {
   "cell_type": "markdown",
   "metadata": {},
   "source": [
    "## Some analysis of the exponent functions\n",
    "\n",
    "Our argument proving that above bounds are valid relies on the findind the $\\sup$, we first if such value is the one that makes the exponent $0$, in other words we study the monotonocity of the exponent functions.\n",
    "\n",
    "Starting with the *insertion distance* bound\n",
    "\\begin{align*}\n",
    "f_{ID}(n,r) = \\binom{n}{r}^2 |\\Sigma|^r\n",
    "\\end{align*}\n",
    "This leads to the exponent function\n",
    "\\begin{align*}\n",
    "g_{ID}(\\beta) - \\log_2{|\\Sigma|} = 2H(\\beta) + (\\beta-1)\\log_2{|\\Sigma|}\n",
    "\\end{align*}"
   ]
  },
  {
   "cell_type": "code",
   "execution_count": null,
   "metadata": {},
   "outputs": [],
   "source": [
    "def h_ID(beta, sigma=4):\n",
    "    return 2*H(beta) + (beta-1)*np.log2(sigma) "
   ]
  },
  {
   "cell_type": "code",
   "execution_count": null,
   "metadata": {},
   "outputs": [],
   "source": [
    "betas = np.linspace(0,1)\n",
    "g_ID = [h_ID(beta) for beta in betas]\n",
    "g_GMR = [h_GMR(beta) for beta in betas]\n",
    "g_BS = [h_BS(beta) for beta in betas]\n",
    "plt.plot(betas, g_GMR, \"--\", label=\"[GMR16]\")\n",
    "plt.plot(betas, g_BS, label=\"[BS]\")\n",
    "plt.plot(betas, g_ID, \":\", label=\"[ID]\")\n",
    "plt.grid(True)\n",
    "plt.legend()\n",
    "plt.xlim([0,1])\n",
    "plt.xlabel(r\"$\\beta$\")\n",
    "plt.ylabel(r\"$g(\\beta)$\")\n",
    "#plt.savefig(\"/tmp/g_graphs.pdf\")"
   ]
  },
  {
   "cell_type": "code",
   "execution_count": null,
   "metadata": {},
   "outputs": [],
   "source": [
    "def f_CP(beta, delta, sigma=4):\n",
    "    return (beta-2*delta)*np.log2(sigma-1) + delta*np.log2(sigma) + np.min([2*delta,1-beta+delta]) + H((beta-2*delta)/(1-delta)) + H((2*delta)/(1-beta+3*delta))\n",
    "def delta_star_CP(beta):\n",
    "    deltas = np.linspace(0,beta/2,99)\n",
    "    return deltas[np.argmax([f_CP(beta,delta) for delta in deltas])]\n",
    "def h_CP(b,sigma=4):\n",
    "    return f_CP(b,delta_star_CP(b),sigma) - np.log2(sigma)\n",
    "xstar_CP = newton(h_CP, 0.25)\n",
    "print(\"beta* = {0:.5f} is the rough approximated [CP] lower bound to alpha\".format(xstar_CP))"
   ]
  },
  {
   "cell_type": "code",
   "execution_count": null,
   "metadata": {},
   "outputs": [],
   "source": [
    "betas = np.linspace(0,1)\n",
    "g_ID = [h_ID(beta) for beta in betas]\n",
    "g_GMR = [h_GMR(beta) for beta in betas]\n",
    "g_BS = [h_BS(beta) for beta in betas]\n",
    "g_CP = [h_CP(beta) for beta in betas]\n",
    "plt.plot(betas, g_GMR, \"--\", label=\"[GMR16]\")\n",
    "plt.plot(betas, g_BS, label=\"[BS]\")\n",
    "plt.plot(betas, g_ID, \":\", label=\"[ID]\")\n",
    "plt.plot(betas, g_CP, \".\", label=\"[CP]\")\n",
    "plt.grid(True)\n",
    "plt.legend()\n",
    "plt.xlim([0,1])\n",
    "plt.xlabel(r\"$\\beta$\")\n",
    "plt.ylabel(r\"$g(\\beta)$\")"
   ]
  },
  {
   "cell_type": "code",
   "execution_count": null,
   "metadata": {},
   "outputs": [],
   "source": []
  }
 ],
 "metadata": {
  "kernelspec": {
   "display_name": "Python 3",
   "language": "python",
   "name": "python3"
  },
  "language_info": {
   "codemirror_mode": {
    "name": "ipython",
    "version": 3
   },
   "file_extension": ".py",
   "mimetype": "text/x-python",
   "name": "python",
   "nbconvert_exporter": "python",
   "pygments_lexer": "ipython3",
   "version": "3.7.2+"
  }
 },
 "nbformat": 4,
 "nbformat_minor": 2
}
